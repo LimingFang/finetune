{
 "cells": [
  {
   "cell_type": "code",
   "execution_count": 1,
   "metadata": {},
   "outputs": [],
   "source": [
    "import json"
   ]
  },
  {
   "cell_type": "code",
   "execution_count": 2,
   "metadata": {},
   "outputs": [],
   "source": [
    "json_file = \"/home/dola/data/works.json\"\n",
    "jsonl_file = \"raw_data.jsonl\""
   ]
  },
  {
   "cell_type": "code",
   "execution_count": 3,
   "metadata": {},
   "outputs": [
    {
     "data": {
      "text/plain": [
       "842966"
      ]
     },
     "execution_count": 3,
     "metadata": {},
     "output_type": "execute_result"
    }
   ],
   "source": [
    "with open(json_file, 'r') as file:\n",
    "    data = json.load(file)\n",
    "len(data)"
   ]
  },
  {
   "cell_type": "code",
   "execution_count": 5,
   "metadata": {},
   "outputs": [],
   "source": [
    "out_data = []\n",
    "\n",
    "system_text = \"你是一名文言文翻译家，能够将文言文准确优雅地翻译成现代白话文。\"\n",
    "input_ct_prefix = \"请将下述文言文翻译成现代白话文：\"\n",
    "\n",
    "for item in data:\n",
    "    k = item[\"Kind\"]\n",
    "    c = item['Content']\n",
    "    t = item['Translation']\n",
    "\n",
    "    if c == None or t == None:continue\n",
    "    if len(c) <= 1 or len(t) <= 1:continue\n",
    "    if c.find(\"【\") != -1:continue\n",
    "    \n",
    "    c_list = c.split(\"\\r\\n\")\n",
    "    t_list = t.split(\"\\r\\n\")\n",
    "    if len(c_list) != len(t_list):\n",
    "        ct_conversation = {\"system\": system_text,\n",
    "                        \"input\": input_ct_prefix + c.replace(\"\\r\\n\",\"\").replace(\"\\n\",\"\"),\n",
    "                        \"output\": t.replace(\"\\r\\n\",\"\").replace(\"\\n\",\"\")}\n",
    "        out_data.append({\"conversation\": [ct_conversation]})\n",
    "\n",
    "    else:\n",
    "        for i,j in zip(c_list,t_list):\n",
    "            ct_conversation = {\"system\": system_text,\n",
    "                            \"input\": input_ct_prefix + i.replace(\"\\r\\n\",\"\").replace(\"\\n\",\"\"),\n",
    "                            \"output\": j.replace(\"\\r\\n\",\"\").replace(\"\\n\",\"\")}            \n",
    "            out_data.append({\"conversation\": [ct_conversation]})\n"
   ]
  },
  {
   "cell_type": "code",
   "execution_count": 6,
   "metadata": {},
   "outputs": [
    {
     "name": "stdout",
     "output_type": "stream",
     "text": [
      "20303\n"
     ]
    }
   ],
   "source": [
    "print(len(out_data))"
   ]
  },
  {
   "cell_type": "code",
   "execution_count": 7,
   "metadata": {},
   "outputs": [],
   "source": [
    "import json\n",
    "with open(jsonl_file, 'w', encoding='utf-8') as f:\n",
    "    for item in out_data:\n",
    "        json_str = json.dumps(item, ensure_ascii=False)\n",
    "        f.write(json_str+\"\\n\")"
   ]
  },
  {
   "cell_type": "markdown",
   "metadata": {},
   "source": [
    "## 划分"
   ]
  },
  {
   "cell_type": "code",
   "execution_count": 8,
   "metadata": {},
   "outputs": [
    {
     "name": "stdout",
     "output_type": "stream",
     "text": [
      "train data szie = 19287,train data example = {'conversation': [{'system': '你是一名文言文翻译家，能够将文言文准确优雅地翻译成现代白话文。', 'input': '请将下述文言文翻译成现代白话文：翩翩之燕，远集西羌。', 'output': '翩翩起舞的紫燕，飞向那遥远的西羌。'}]}\n",
      "test data szie = 1016,test data example = {'conversation': [{'system': '你是一名文言文翻译家，能够将文言文准确优雅地翻译成现代白话文。', 'input': '请将下述文言文翻译成现代白话文：霜落熊升树，林空鹿饮溪。', 'output': '太阳高升，霜雪融落，山林显得愈加寂静空荡，笨熊正在缓慢地爬着大树，鹿儿正在悠闲地喝着小溪的潺潺流水。'}]}\n",
      "Split complete. Train data written to train.jsonl, Test data written to test.jsonl\n"
     ]
    }
   ],
   "source": [
    "# copy from https://github.com/InternLM/tutorial/blob/main/xtuner/split2train_and_test.py and modified\n",
    "\n",
    "import random\n",
    "import jsonlines\n",
    "def split_conversations(input_file, train_output_file, test_output_file):\n",
    "    data = []\n",
    "    with open(input_file) as file:\n",
    "        for item in jsonlines.Reader(file):\n",
    "            data.append(item)\n",
    "\n",
    "    num_conversations = len(data)\n",
    "    \n",
    "    random.shuffle(data)\n",
    "    random.shuffle(data)\n",
    "    random.shuffle(data)\n",
    "    split_point = int(num_conversations * 0.95)\n",
    "\n",
    "    train_data = data[:split_point]\n",
    "    test_data = data[split_point:]\n",
    "\n",
    "    print(f\"train data szie = {len(train_data)},train data example = {train_data[0]}\")\n",
    "    print(f\"test data szie = {len(test_data)},test data example = {test_data[0]}\")\n",
    "\n",
    "    with open(train_output_file, 'w', encoding='utf-8') as f:\n",
    "        for item in train_data:\n",
    "            json_str = json.dumps(item, ensure_ascii=False)\n",
    "            f.write(json_str+\"\\n\")\n",
    "\n",
    "    with open(test_output_file, 'w', encoding='utf-8') as f:\n",
    "        for item in test_data:\n",
    "            json_str = json.dumps(item, ensure_ascii=False)\n",
    "            f.write(json_str+\"\\n\")\n",
    "\n",
    "    print(f\"Split complete. Train data written to {train_output_file}, Test data written to {test_output_file}\")\n",
    "\n",
    "split_conversations(jsonl_file, \"train.jsonl\", \"test.jsonl\")"
   ]
  }
 ],
 "metadata": {
  "kernelspec": {
   "display_name": "xtuner0.1.9",
   "language": "python",
   "name": "python3"
  },
  "language_info": {
   "codemirror_mode": {
    "name": "ipython",
    "version": 3
   },
   "file_extension": ".py",
   "mimetype": "text/x-python",
   "name": "python",
   "nbconvert_exporter": "python",
   "pygments_lexer": "ipython3",
   "version": "3.10.13"
  }
 },
 "nbformat": 4,
 "nbformat_minor": 2
}
