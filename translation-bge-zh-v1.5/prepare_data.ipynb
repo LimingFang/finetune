{
 "cells": [
  {
   "cell_type": "code",
   "execution_count": null,
   "metadata": {},
   "outputs": [],
   "source": [
    "import jsonlines\n",
    "import json"
   ]
  },
  {
   "cell_type": "code",
   "execution_count": null,
   "metadata": {},
   "outputs": [],
   "source": [
    "ct_path = \"/home/dola/img-to-poem/data/ct_data.jsonl\" # works中诗词曲 content-translation\n",
    "c_path = \"/home/dola/img-to-poem/data/c_data.jsonl\" # works中诗词曲 content\n",
    "return_candidate_pool_file = \"candidate_pool.jsonl\"\n",
    "return_data_file = \"raw_data.jsonl\""
   ]
  },
  {
   "cell_type": "code",
   "execution_count": null,
   "metadata": {},
   "outputs": [],
   "source": [
    "return_data = []\n",
    "with open(ct_path) as file:\n",
    "    for item in jsonlines.Reader(file):\n",
    "        query = item[\"translation\"]\n",
    "        pos = item[\"content\"]\n",
    "        return_data.append({\"query\":query,\"pos\":[pos],\"neg\":[]})\n",
    "\n",
    "st = 0\n",
    "with open(return_data_file, 'w', encoding='utf-8') as f:\n",
    "    for item in return_data:\n",
    "        json_str = json.dumps(item, ensure_ascii=False)\n",
    "        if st == 0:\n",
    "            f.write(json_str)\n",
    "        else:\n",
    "            f.write(\"\\n\" + json_str)\n",
    "        st += 1"
   ]
  },
  {
   "cell_type": "code",
   "execution_count": null,
   "metadata": {},
   "outputs": [],
   "source": [
    "return_candidate_pool = []\n",
    "with open(c_path) as file:\n",
    "    for item in jsonlines.Reader(file):\n",
    "        text = item[\"content\"]\n",
    "        return_candidate_pool.append({\"text\":text})\n",
    "\n",
    "st = 0\n",
    "with open(return_candidate_pool_file, 'w', encoding='utf-8') as f:\n",
    "    for item in return_candidate_pool:\n",
    "        json_str = json.dumps(item, ensure_ascii=False)\n",
    "        if st == 0:\n",
    "            f.write(json_str)\n",
    "        else:\n",
    "            f.write(\"\\n\" + json_str)\n",
    "        st += 1"
   ]
  }
 ],
 "metadata": {
  "kernelspec": {
   "display_name": "xtuner0.1.9",
   "language": "python",
   "name": "python3"
  },
  "language_info": {
   "codemirror_mode": {
    "name": "ipython",
    "version": 3
   },
   "file_extension": ".py",
   "mimetype": "text/x-python",
   "name": "python",
   "nbconvert_exporter": "python",
   "pygments_lexer": "ipython3",
   "version": "3.10.13"
  }
 },
 "nbformat": 4,
 "nbformat_minor": 2
}
